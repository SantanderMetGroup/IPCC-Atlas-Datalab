{
 "cells": [
  {
   "cell_type": "code",
   "execution_count": null,
   "id": "4fc47b15-20e6-4827-bfa3-f889b76ce93c",
   "metadata": {},
   "outputs": [],
   "source": [
    "import time\n",
    "import psutil\n",
    "\n",
    "import numpy as np\n",
    "import pandas as pd\n",
    "\n",
    "import xarray\n",
    "import dask\n",
    "\n",
    "from gsat import compute, measure"
   ]
  },
  {
   "cell_type": "code",
   "execution_count": null,
   "id": "d514d1cd-f6dd-45a5-a2b3-7cf290b0852f",
   "metadata": {},
   "outputs": [],
   "source": [
    "dask.config.set(scheduler=\"processes\")"
   ]
  },
  {
   "cell_type": "markdown",
   "id": "64a146f9-ed8e-4f51-aa9e-b3fa393b0e81",
   "metadata": {},
   "source": [
    "# Performance"
   ]
  },
  {
   "cell_type": "code",
   "execution_count": null,
   "id": "a7e11489-840b-4958-a07f-ce13ee268e86",
   "metadata": {},
   "outputs": [],
   "source": [
    "df = pd.read_csv(\"../../../data_inventory.csv\")\n",
    "subset = df.query('type == \"netcdf\" & variable == \"t\" & project == \"CMIP6\" & frequency == \"mon\"')\n",
    "subset"
   ]
  },
  {
   "cell_type": "code",
   "execution_count": null,
   "id": "f2c9441c-a9b1-49ab-8857-8531fe2e245a",
   "metadata": {},
   "outputs": [],
   "source": [
    "hist = xarray.open_dataset(subset[subset[\"experiment\"] == \"historical\"][\"location\"].iloc[0])\n",
    "ssp126 = xarray.open_dataset(subset[subset[\"experiment\"] == \"ssp126\"][\"location\"].iloc[0])\n",
    "ssp245 = xarray.open_dataset(subset[subset[\"experiment\"] == \"ssp245\"][\"location\"].iloc[0])\n",
    "ssp370 = xarray.open_dataset(subset[subset[\"experiment\"] == \"ssp370\"][\"location\"].iloc[0])\n",
    "ssp585 = xarray.open_dataset(subset[subset[\"experiment\"] == \"ssp585\"][\"location\"].iloc[0])"
   ]
  },
  {
   "cell_type": "markdown",
   "id": "2b71151c-c634-4d32-b258-2b63ddf1cb09",
   "metadata": {},
   "source": [
    "## Set up experiment"
   ]
  },
  {
   "cell_type": "code",
   "execution_count": null,
   "id": "0bdf8ef9-a9a3-421b-96ed-2c6226c914f9",
   "metadata": {},
   "outputs": [],
   "source": [
    "nworkers = [8, 4, 2, 1]\n",
    "runs = 5"
   ]
  },
  {
   "cell_type": "markdown",
   "id": "f8f5c802-26dd-44c2-9687-40281d90b462",
   "metadata": {},
   "source": [
    "Run the experiment. Possible names:\n",
    "\n",
    "- `gpfs` - Run from GPFS and not influenced by NFS.\n",
    "- `nfs` - Run from Hub and accessing \"local\" files through NFS.\n",
    "- `tds-hub` - Run from Hub and accessing OPeNDAP.\n",
    "- `tds-hub-deflate` - Run from Hub and accessing OPeNDAP (compression enabled).\n",
    "- `tds-remote` - Rum from remote and accessing OPeNDAP.\n",
    "- `tds-remote-deflate` - Rum from remote and accessing OPeNDAP (compression enabled)."
   ]
  },
  {
   "cell_type": "code",
   "execution_count": null,
   "id": "78a246d3-4480-49e3-9ba1-d5759603bc9d",
   "metadata": {},
   "outputs": [],
   "source": [
    "results = measure(\"local\", nworkers, runs,\n",
    "                  hist, ssp126, ssp245, ssp370, ssp585)"
   ]
  },
  {
   "cell_type": "markdown",
   "id": "579d8f3e-6bd6-485c-9b97-1b766d6563b0",
   "metadata": {},
   "source": [
    "Collect results."
   ]
  },
  {
   "cell_type": "code",
   "execution_count": null,
   "id": "fe7701e3-f44b-43b0-8fe0-2f1021b04952",
   "metadata": {},
   "outputs": [],
   "source": [
    "pd.DataFrame.from_records(results).to_csv(\"hub.csv\", index=False)"
   ]
  },
  {
   "cell_type": "markdown",
   "id": "d4fe4d9d-c21a-44fc-8171-64f93528b2eb",
   "metadata": {},
   "source": [
    "# Change .dodsrc"
   ]
  },
  {
   "cell_type": "code",
   "execution_count": null,
   "id": "994c01f6-9c7e-4042-bcfd-5a8675dd64ae",
   "metadata": {},
   "outputs": [],
   "source": [
    "!sed -i 's|DEFLATE=0|DEFLATE=1|' /home/jovyan/.dodsrc"
   ]
  },
  {
   "cell_type": "code",
   "execution_count": null,
   "id": "d9b57c8f-a735-4cfe-9760-f5cdb908f446",
   "metadata": {},
   "outputs": [],
   "source": [
    "!cat /home/jovyan/.dodsrc"
   ]
  },
  {
   "cell_type": "code",
   "execution_count": null,
   "id": "d26e641f-2bed-41cb-9f5a-ebe2213df566",
   "metadata": {},
   "outputs": [],
   "source": [
    "!sed -i 's|DEFLATE=1|DEFLATE=0|' /home/jovyan/.dodsrc"
   ]
  },
  {
   "cell_type": "code",
   "execution_count": null,
   "id": "c7943dcf-bfb7-49d9-85db-87a37a014292",
   "metadata": {},
   "outputs": [],
   "source": [
    "!cat /home/jovyan/.dodsrc"
   ]
  },
  {
   "cell_type": "code",
   "execution_count": null,
   "id": "283bc483-8045-491a-a755-55a0aaa9415d",
   "metadata": {},
   "outputs": [],
   "source": []
  }
 ],
 "metadata": {
  "kernelspec": {
   "display_name": "nc48",
   "language": "python",
   "name": "nc48"
  },
  "language_info": {
   "codemirror_mode": {
    "name": "ipython",
    "version": 3
   },
   "file_extension": ".py",
   "mimetype": "text/x-python",
   "name": "python",
   "nbconvert_exporter": "python",
   "pygments_lexer": "ipython3",
   "version": "3.11.6"
  }
 },
 "nbformat": 4,
 "nbformat_minor": 5
}
